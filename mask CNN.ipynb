{
 "cells": [
  {
   "cell_type": "code",
   "execution_count": 13,
   "id": "8739dab5",
   "metadata": {},
   "outputs": [],
   "source": [
    "import os\n",
    "import random\n",
    "import tensorflow as tf\n",
    "from tensorflow.keras.preprocessing.image import ImageDataGenerator"
   ]
  },
  {
   "cell_type": "code",
   "execution_count": 14,
   "id": "a5403b1c",
   "metadata": {},
   "outputs": [],
   "source": [
    "# Set the path to your dataset directory\n",
    "dataset_dir = 'D:\\\\root\\\\data'"
   ]
  },
  {
   "cell_type": "code",
   "execution_count": 15,
   "id": "a6f53c92",
   "metadata": {},
   "outputs": [],
   "source": [
    "w_maskDir  = os.path.join(dataset_dir, 'with_mask')\n",
    "n_maskDir = os.path.join(dataset_dir, 'without_mask')"
   ]
  },
  {
   "cell_type": "code",
   "execution_count": 16,
   "id": "6afadf94",
   "metadata": {},
   "outputs": [
    {
     "name": "stdout",
     "output_type": "stream",
     "text": [
      "['without_mask', 'with_mask']\n"
     ]
    }
   ],
   "source": [
    "print(os.listdir(dataset_dir))"
   ]
  },
  {
   "cell_type": "code",
   "execution_count": 17,
   "id": "c4a3821b",
   "metadata": {},
   "outputs": [],
   "source": [
    "# Get the list of all image files in each category\n",
    "w_mask_file = [os.path.join(w_maskDir, file) for file in os.listdir(w_maskDir) if file.endswith('.jpg')]\n",
    "n_mask_file = [os.path.join(n_maskDir, file) for file in os.listdir(n_maskDir) if file.endswith('.jpg')]"
   ]
  },
  {
   "cell_type": "code",
   "execution_count": 18,
   "id": "7d029f25",
   "metadata": {},
   "outputs": [],
   "source": [
    "# Shuffle the file lists to ensure randomness\n",
    "random.shuffle(w_mask_file)\n",
    "random.shuffle(n_mask_file)"
   ]
  },
  {
   "cell_type": "code",
   "execution_count": 19,
   "id": "6842c340",
   "metadata": {},
   "outputs": [],
   "source": [
    "# Define the ratio of data to be used for training\n",
    "train_ratio = 0.8"
   ]
  },
  {
   "cell_type": "code",
   "execution_count": 20,
   "id": "1999d18b",
   "metadata": {},
   "outputs": [],
   "source": [
    "# Split the data into training and testing sets\n",
    "w_mask_train_files = w_mask_file[:int(train_ratio * len(w_mask_file))]\n",
    "w_mask_test_files = w_mask_file[int(train_ratio * len(w_mask_file)):]"
   ]
  },
  {
   "cell_type": "code",
   "execution_count": 21,
   "id": "6025b436",
   "metadata": {},
   "outputs": [],
   "source": [
    "n_mask_train_files = n_mask_file[:int(train_ratio * len(n_mask_file))]\n",
    "n_mask_test_files = n_mask_file[int(train_ratio * len(n_mask_file)):]"
   ]
  },
  {
   "cell_type": "code",
   "execution_count": 22,
   "id": "edd910ed",
   "metadata": {},
   "outputs": [],
   "source": [
    "# Define the ImageDataGenerator for preprocessing and data augmentationb\n",
    "datagen = ImageDataGenerator(rescale=1./255, shear_range=0.2, zoom_range=0.2, horizontal_flip=True)"
   ]
  },
  {
   "cell_type": "code",
   "execution_count": 23,
   "id": "6126bc9d",
   "metadata": {},
   "outputs": [],
   "source": [
    "# Create a directory for both training and testing data in the specified path\n",
    "train_test_dir = 'D:\\\\root\\\\train_test'\n",
    "os.makedirs(train_test_dir, exist_ok=True)\n",
    "\n",
    "# Create directories for each class in training and testing sets\n",
    "train_dir = os.path.join(train_test_dir, 'train_data')\n",
    "test_dir = os.path.join(train_test_dir, 'test_data')\n",
    "\n",
    "os.makedirs(train_dir, exist_ok=True)\n",
    "os.makedirs(test_dir, exist_ok=True)\n"
   ]
  },
  {
   "cell_type": "code",
   "execution_count": 24,
   "id": "f8fff2d3",
   "metadata": {},
   "outputs": [],
   "source": [
    "# Create directories for each class inside the training directory\n",
    "w_mask_train_dir = os.path.join(train_dir, 'with_mask')\n",
    "n_mask_train_dir = os.path.join(train_dir, 'without_mask')\n",
    "\n",
    "os.makedirs(w_mask_train_dir, exist_ok=True)\n",
    "os.makedirs(n_mask_train_dir, exist_ok=True)\n",
    "\n",
    "# Create directories for each class inside the testing directory\n",
    "w_mask_test_dir = os.path.join(test_dir, 'with_mask')\n",
    "n_mask_test_dir = os.path.join(test_dir, 'without_mask')\n",
    "\n",
    "os.makedirs(w_mask_test_dir, exist_ok=True)\n",
    "os.makedirs(n_mask_test_dir, exist_ok=True)"
   ]
  },
  {
   "cell_type": "code",
   "execution_count": 27,
   "id": "0e5c7953",
   "metadata": {},
   "outputs": [],
   "source": [
    "import shutil\n",
    "# Copy training files to class-specific directories in the training directory\n",
    "for i, file_path in enumerate(w_mask_train_files):\n",
    "    shutil.copy(file_path, os.path.join(w_mask_train_dir, f\"{i}.jpg\"))\n",
    "\n",
    "for i, file_path in enumerate(n_mask_train_files):\n",
    "    shutil.copy(file_path, os.path.join(n_mask_train_dir, f\"{i}.jpg\"))\n",
    "\n",
    "# Copy testing files to class-specific directories in the testing directory\n",
    "for i, file_path in enumerate(w_mask_test_files):\n",
    "    shutil.copy(file_path, os.path.join(w_mask_test_dir, f\"{i}.jpg\"))\n",
    "\n",
    "for i, file_path in enumerate(n_mask_test_files):\n",
    "    shutil.copy(file_path, os.path.join(n_mask_test_dir, f\"{i}.jpg\"))"
   ]
  },
  {
   "cell_type": "code",
   "execution_count": 28,
   "id": "fb428924",
   "metadata": {},
   "outputs": [],
   "source": [
    "img_width = 300\n",
    "img_height = 300\n",
    "batch_size = 64"
   ]
  },
  {
   "cell_type": "code",
   "execution_count": 29,
   "id": "c19e310f",
   "metadata": {},
   "outputs": [
    {
     "name": "stdout",
     "output_type": "stream",
     "text": [
      "Found 6042 images belonging to 2 classes.\n"
     ]
    }
   ],
   "source": [
    "train_generator = datagen.flow_from_directory(\n",
    "    'D:\\\\root\\\\train_test\\\\train_data',\n",
    "    target_size=(64, 64),\n",
    "    batch_size=32,\n",
    "    class_mode='binary'\n",
    ")"
   ]
  },
  {
   "cell_type": "code",
   "execution_count": 30,
   "id": "b14a166d",
   "metadata": {},
   "outputs": [
    {
     "name": "stdout",
     "output_type": "stream",
     "text": [
      "Found 1511 images belonging to 2 classes.\n"
     ]
    }
   ],
   "source": [
    "test_generator = datagen.flow_from_directory(\n",
    "    'D:\\\\root\\\\train_test\\\\test_data',\n",
    "    target_size=(64, 64),\n",
    "    batch_size=32,\n",
    "    class_mode='binary'\n",
    ")"
   ]
  },
  {
   "cell_type": "code",
   "execution_count": 22,
   "id": "16b9f56f",
   "metadata": {},
   "outputs": [
    {
     "name": "stdout",
     "output_type": "stream",
     "text": [
      "Number of training images: 6042\n",
      "Number of testing images: 1511\n"
     ]
    }
   ],
   "source": [
    "# Count the number of images in training and testing sets\n",
    "num_train_images = len(train_files)\n",
    "num_test_images = len(test_files)\n",
    "\n",
    "print(f\"Number of training images: {num_train_images}\")\n",
    "print(f\"Number of testing images: {num_test_images}\")"
   ]
  },
  {
   "cell_type": "code",
   "execution_count": 50,
   "id": "8b367922",
   "metadata": {},
   "outputs": [],
   "source": [
    "import tensorflow\n",
    "from tensorflow.keras.models import Sequential\n",
    "from tensorflow.keras.layers import Flatten\n",
    "from tensorflow.keras.layers import Dense\n",
    "from tensorflow.keras.layers import Conv2D\n",
    "from tensorflow.keras.layers import MaxPooling2D\n",
    "from tensorflow.keras.callbacks import TensorBoard"
   ]
  },
  {
   "cell_type": "code",
   "execution_count": 65,
   "id": "17caf4ab",
   "metadata": {},
   "outputs": [],
   "source": [
    "# classifier = Sequential()\n",
    "# classifier.add(Conv2D(32, (3, 3), input_shape=(64, 64, 3), activation='relu'))\n",
    "# classifier.add(MaxPooling2D(pool_size=(2,2),strides=2)) #if stride not given it equal to pool filter size\n",
    "# classifier.add(Conv2D(32,(3,3),activation = 'relu'))\n",
    "# classifier.add(MaxPooling2D(pool_size=(2,2),strides=2))\n",
    "# classifier.add(Flatten())\n",
    "# classifier.add(Dense(units=128,activation='relu'))\n",
    "# classifier.add(Dense(units=1,activation='sigmoid'))\n",
    "# adam = tensorflow.keras.optimizers.Adam(learning_rate=0.001, beta_1=0.9, beta_2=0.999, epsilon=None, amsgrad=False)\n",
    "# classifier.compile(optimizer=adam,loss='binary_crossentropy',metrics=['accuracy'])\n",
    "# #tensorboard = TensorBoard(log_dir=\"logs/{}\".format(time()))"
   ]
  },
  {
   "cell_type": "code",
   "execution_count": 97,
   "id": "35d87646",
   "metadata": {},
   "outputs": [
    {
     "name": "stderr",
     "output_type": "stream",
     "text": [
      "WARNING:absl:`lr` is deprecated in Keras optimizer, please use `learning_rate` or use the legacy optimizer, e.g.,tf.keras.optimizers.legacy.Adam.\n"
     ]
    }
   ],
   "source": [
    "model = tensorflow.keras.Sequential([\n",
    "    tensorflow.keras.layers.Conv2D(filters = 16, kernel_size = (3,3), activation='relu',\n",
    "                                  input_shape=(64, 64, 3)),\n",
    "    tensorflow.keras.layers.MaxPool2D(pool_size=(2,2), strides=2),\n",
    "    tensorflow.keras.layers.Conv2D(filters = 16, kernel_size = (3,3), activation='relu'),\n",
    "    tensorflow.keras.layers.MaxPool2D(pool_size=(2,2), strides=2),\n",
    "    \n",
    "    tensorflow.keras.layers.Conv2D(filters = 32, kernel_size = (3,3), activation='relu'),\n",
    "    tensorflow.keras.layers.MaxPool2D(pool_size=(2,2), strides=2),\n",
    "    \n",
    "    tensorflow.keras.layers.Flatten(),\n",
    "    tensorflow.keras.layers.Dense(64, activation='relu'),\n",
    "    tensorflow.keras.layers.Dense(1, activation='sigmoid')\n",
    "    \n",
    "])\n",
    "\n",
    "model.compile(\n",
    "\n",
    "    optimizer=tensorflow.keras.optimizers.Adam(lr=0.001),\n",
    "\n",
    "    loss=tensorflow.keras.losses.BinaryCrossentropy(),\n",
    "\n",
    "    metrics=['accuracy']\n",
    "\n",
    ")"
   ]
  },
  {
   "cell_type": "code",
   "execution_count": 98,
   "id": "d4c6a1d6",
   "metadata": {},
   "outputs": [
    {
     "name": "stdout",
     "output_type": "stream",
     "text": [
      "Epoch 1/20\n",
      " 49/150 [========>.....................] - ETA: 31s - loss: 0.5668 - accuracy: 0.7111"
     ]
    },
    {
     "name": "stderr",
     "output_type": "stream",
     "text": [
      "D:\\python anaconda\\lib\\site-packages\\PIL\\Image.py:996: UserWarning: Palette images with Transparency expressed in bytes should be converted to RGBA images\n",
      "  warnings.warn(\n"
     ]
    },
    {
     "name": "stdout",
     "output_type": "stream",
     "text": [
      "150/150 [==============================] - 62s 400ms/step - loss: 0.4080 - accuracy: 0.8135 - val_loss: 0.2912 - val_accuracy: 0.8781\n",
      "Epoch 2/20\n",
      "150/150 [==============================] - 64s 427ms/step - loss: 0.2795 - accuracy: 0.8876 - val_loss: 0.2389 - val_accuracy: 0.9031\n",
      "Epoch 3/20\n",
      "150/150 [==============================] - 52s 348ms/step - loss: 0.2353 - accuracy: 0.9059 - val_loss: 0.2124 - val_accuracy: 0.9180\n",
      "Epoch 4/20\n",
      "150/150 [==============================] - 47s 311ms/step - loss: 0.2037 - accuracy: 0.9199 - val_loss: 0.1923 - val_accuracy: 0.9320\n",
      "Epoch 5/20\n",
      "150/150 [==============================] - 45s 303ms/step - loss: 0.1818 - accuracy: 0.9330 - val_loss: 0.1764 - val_accuracy: 0.9383\n",
      "Epoch 6/20\n",
      "150/150 [==============================] - 46s 304ms/step - loss: 0.1728 - accuracy: 0.9360 - val_loss: 0.1685 - val_accuracy: 0.9344\n",
      "Epoch 7/20\n",
      "150/150 [==============================] - 63s 419ms/step - loss: 0.1666 - accuracy: 0.9379 - val_loss: 0.1779 - val_accuracy: 0.9438\n",
      "Epoch 8/20\n",
      "150/150 [==============================] - 54s 360ms/step - loss: 0.1515 - accuracy: 0.9418 - val_loss: 0.1783 - val_accuracy: 0.9406\n",
      "Epoch 9/20\n",
      "150/150 [==============================] - 52s 349ms/step - loss: 0.1356 - accuracy: 0.9512 - val_loss: 0.1634 - val_accuracy: 0.9320\n",
      "Epoch 10/20\n",
      "150/150 [==============================] - 65s 435ms/step - loss: 0.1301 - accuracy: 0.9535 - val_loss: 0.1602 - val_accuracy: 0.9391\n",
      "Epoch 11/20\n",
      "150/150 [==============================] - 70s 464ms/step - loss: 0.1184 - accuracy: 0.9574 - val_loss: 0.1476 - val_accuracy: 0.9445\n",
      "Epoch 12/20\n",
      "150/150 [==============================] - 75s 500ms/step - loss: 0.1094 - accuracy: 0.9593 - val_loss: 0.1502 - val_accuracy: 0.9531\n",
      "Epoch 13/20\n",
      "150/150 [==============================] - 66s 438ms/step - loss: 0.1105 - accuracy: 0.9637 - val_loss: 0.1356 - val_accuracy: 0.9547\n",
      "Epoch 14/20\n",
      "150/150 [==============================] - 67s 446ms/step - loss: 0.1040 - accuracy: 0.9664 - val_loss: 0.1224 - val_accuracy: 0.9531\n",
      "Epoch 15/20\n",
      "150/150 [==============================] - 63s 420ms/step - loss: 0.0958 - accuracy: 0.9650 - val_loss: 0.1117 - val_accuracy: 0.9578\n",
      "Epoch 16/20\n",
      "150/150 [==============================] - 79s 526ms/step - loss: 0.0854 - accuracy: 0.9683 - val_loss: 0.1328 - val_accuracy: 0.9539\n",
      "Epoch 17/20\n",
      "150/150 [==============================] - 67s 447ms/step - loss: 0.0848 - accuracy: 0.9731 - val_loss: 0.1202 - val_accuracy: 0.9602\n",
      "Epoch 18/20\n",
      "150/150 [==============================] - 65s 434ms/step - loss: 0.0917 - accuracy: 0.9681 - val_loss: 0.1043 - val_accuracy: 0.9633\n",
      "Epoch 19/20\n",
      "150/150 [==============================] - 75s 502ms/step - loss: 0.0827 - accuracy: 0.9712 - val_loss: 0.1479 - val_accuracy: 0.9500\n",
      "Epoch 20/20\n",
      "150/150 [==============================] - 64s 429ms/step - loss: 0.0724 - accuracy: 0.9758 - val_loss: 0.0975 - val_accuracy: 0.9641\n"
     ]
    }
   ],
   "source": [
    "\n",
    "# Fit the model using the data generator\n",
    "history = model.fit(\n",
    "    train_generator,\n",
    "    steps_per_epoch=150,\n",
    "    epochs=20,\n",
    "    validation_data=test_generator,\n",
    "    validation_steps=40\n",
    ")"
   ]
  },
  {
   "cell_type": "code",
   "execution_count": 99,
   "id": "ebd8b66a",
   "metadata": {},
   "outputs": [
    {
     "name": "stdout",
     "output_type": "stream",
     "text": [
      "48/48 [==============================] - 10s 217ms/step - loss: 0.1104 - accuracy: 0.9610\n"
     ]
    },
    {
     "data": {
      "text/plain": [
       "[0.1104290559887886, 0.9609529972076416]"
      ]
     },
     "execution_count": 99,
     "metadata": {},
     "output_type": "execute_result"
    }
   ],
   "source": [
    "# Evaluate the model on the test set.\n",
    "\n",
    "model.evaluate(test_generator)\n",
    "\n"
   ]
  },
  {
   "cell_type": "code",
   "execution_count": 100,
   "id": "b0f27d1e",
   "metadata": {},
   "outputs": [
    {
     "data": {
      "image/png": "[encoded data removed]",
      "text/plain": [
       "<Figure size 640x480 with 1 Axes>"
      ]
     },
     "metadata": {},
     "output_type": "display_data"
    },
    {
     "data": {
      "image/png": "[encoded data removed]",
      "text/plain": [
       "<Figure size 640x480 with 1 Axes>"
      ]
     },
     "metadata": {},
     "output_type": "display_data"
    }
   ],
   "source": [
    "import matplotlib.pyplot as plt\n",
    "\n",
    "def plot_acc_loss(history, epochs):\n",
    "    # Plot training & validation accuracy values\n",
    "    plt.plot(history.history['accuracy'])\n",
    "    plt.plot(history.history['val_accuracy'])\n",
    "    plt.title('Accuracy over ' + str(epochs) + ' Epochs', size=15)\n",
    "    plt.xlabel('Epoch')\n",
    "    plt.ylabel('Accuracy')\n",
    "    plt.legend(['Train', 'Validation'], loc='upper left')\n",
    "    plt.show()\n",
    "\n",
    "    # Plot training & validation loss values\n",
    "    plt.plot(history.history['loss'])\n",
    "    plt.plot(history.history['val_loss'])\n",
    "    plt.title('Loss over ' + str(epochs) + ' Epochs', size=15)\n",
    "    plt.xlabel('Epoch')\n",
    "    plt.ylabel('Loss')\n",
    "    plt.legend(['Train', 'Validation'], loc='upper left')\n",
    "    plt.show()\n",
    "\n",
    "plot_acc_loss(history, 20)"
   ]
  },
  {
   "cell_type": "code",
   "execution_count": 102,
   "id": "20d22992",
   "metadata": {},
   "outputs": [],
   "source": [
    "model.save('mask_find.keras')"
   ]
  },
  {
   "cell_type": "code",
   "execution_count": 103,
   "id": "42829e18",
   "metadata": {},
   "outputs": [],
   "source": [
    "model.save('D:\\\\root\\\\mask_find.keras')"
   ]
  },
  {
   "cell_type": "code",
   "execution_count": 1,
   "id": "f7c48d97",
   "metadata": {},
   "outputs": [],
   "source": [
    "from tensorflow.keras.models import load_model\n",
    "\n",
    "loaded_model = load_model('mask_find.keras')\n"
   ]
  },
  {
   "cell_type": "code",
   "execution_count": 34,
   "id": "03aede1e",
   "metadata": {},
   "outputs": [
    {
     "name": "stdout",
     "output_type": "stream",
     "text": [
      "1/1 [==============================] - 0s 29ms/step\n"
     ]
    },
    {
     "data": {
      "image/png": "[encoded data removed]",
      "text/plain": [
       "<Figure size 640x480 with 1 Axes>"
      ]
     },
     "metadata": {},
     "output_type": "display_data"
    }
   ],
   "source": [
    "#Prediction of image\n",
    "%matplotlib inline\n",
    "import tensorflow\n",
    "from tensorflow.keras.preprocessing import image\n",
    "import matplotlib.pyplot as plt\n",
    "import numpy as np\n",
    "img1 = image.load_img('D:/root/train_test/test_data/with_mask/1.jpg', target_size=(64, 64))\n",
    "img = image.img_to_array(img1)\n",
    "img = img/255\n",
    "# create a batch of size 1 [N,H,W,C]\n",
    "img = np.expand_dims(img, axis=0)\n",
    "prediction = loaded_model.predict(img, batch_size=None,steps=1) #gives all class prob.\n",
    "if(prediction[:,:]>0.5):\n",
    "    value ='without_mask :%1.2f'%(prediction[0,0])\n",
    "    plt.text(20, 62,value,color='red',fontsize=18,bbox=dict(facecolor='white',alpha=0.8))\n",
    "else:\n",
    "    value ='with_mask :%1.2f'%(1.0-prediction[0,0])\n",
    "    plt.text(20, 62,value,color='red',fontsize=18,bbox=dict(facecolor='white',alpha=0.8))\n",
    "\n",
    "plt.imshow(img1)\n",
    "plt.show()"
   ]
  },
  {
   "cell_type": "code",
   "execution_count": 11,
   "id": "3ccb568c",
   "metadata": {},
   "outputs": [
    {
     "name": "stdout",
     "output_type": "stream",
     "text": [
      "Model: \"sequential_11\"\n",
      "_________________________________________________________________\n",
      " Layer (type)                Output Shape              Param #   \n",
      "=================================================================\n",
      " conv2d_27 (Conv2D)          (None, 62, 62, 16)        448       \n",
      "                                                                 \n",
      " max_pooling2d_27 (MaxPooli  (None, 31, 31, 16)        0         \n",
      " ng2D)                                                           \n",
      "                                                                 \n",
      " conv2d_28 (Conv2D)          (None, 29, 29, 16)        2320      \n",
      "                                                                 \n",
      " max_pooling2d_28 (MaxPooli  (None, 14, 14, 16)        0         \n",
      " ng2D)                                                           \n",
      "                                                                 \n",
      " conv2d_29 (Conv2D)          (None, 12, 12, 32)        4640      \n",
      "                                                                 \n",
      " max_pooling2d_29 (MaxPooli  (None, 6, 6, 32)          0         \n",
      " ng2D)                                                           \n",
      "                                                                 \n",
      " flatten_11 (Flatten)        (None, 1152)              0         \n",
      "                                                                 \n",
      " dense_22 (Dense)            (None, 64)                73792     \n",
      "                                                                 \n",
      " dense_23 (Dense)            (None, 1)                 65        \n",
      "                                                                 \n",
      "=================================================================\n",
      "Total params: 81265 (317.44 KB)\n",
      "Trainable params: 81265 (317.44 KB)\n",
      "Non-trainable params: 0 (0.00 Byte)\n",
      "_________________________________________________________________\n"
     ]
    }
   ],
   "source": [
    "loaded_model.summary()\n"
   ]
  },
  {
   "cell_type": "code",
   "execution_count": 31,
   "id": "62fb34ba",
   "metadata": {},
   "outputs": [
    {
     "name": "stderr",
     "output_type": "stream",
     "text": [
      "C:\\Users\\Dell\\AppData\\Local\\Temp\\ipykernel_2556\\616238968.py:3: UserWarning: `Model.predict_generator` is deprecated and will be removed in a future version. Please use `Model.predict`, which supports generators.\n",
      "  ytesthat = loaded_model.predict_generator(test_generator)\n"
     ]
    }
   ],
   "source": [
    "import pandas as pd\n",
    "test_generator.reset\n",
    "ytesthat = loaded_model.predict_generator(test_generator)#`Model.predict_generator` is deprecated and will be removed in a future version. Please use `Model.predict`, which supports generators.\n",
    "df = pd.DataFrame({\n",
    "    'filename':test_generator.filenames,\n",
    "    'predict':ytesthat[:,0],\n",
    "    'y':test_generator.classes\n",
    "})"
   ]
  },
  {
   "cell_type": "code",
   "execution_count": 32,
   "id": "878bb9e4",
   "metadata": {},
   "outputs": [
    {
     "data": {
      "text/html": [
       "<div>\n",
       "<style scoped>\n",
       "    .dataframe tbody tr th:only-of-type {\n",
       "        vertical-align: middle;\n",
       "    }\n",
       "\n",
       "    .dataframe tbody tr th {\n",
       "        vertical-align: top;\n",
       "    }\n",
       "\n",
       "    .dataframe thead th {\n",
       "        text-align: right;\n",
       "    }\n",
       "</style>\n",
       "<table border=\"1\" class=\"dataframe\">\n",
       "  <thead>\n",
       "    <tr style=\"text-align: right;\">\n",
       "      <th></th>\n",
       "      <th>filename</th>\n",
       "      <th>predict</th>\n",
       "      <th>y</th>\n",
       "      <th>y_pred</th>\n",
       "    </tr>\n",
       "  </thead>\n",
       "  <tbody>\n",
       "    <tr>\n",
       "      <th>0</th>\n",
       "      <td>with_mask\\0.jpg</td>\n",
       "      <td>0.94180</td>\n",
       "      <td>0</td>\n",
       "      <td>1</td>\n",
       "    </tr>\n",
       "    <tr>\n",
       "      <th>1</th>\n",
       "      <td>with_mask\\1.jpg</td>\n",
       "      <td>0.14363</td>\n",
       "      <td>0</td>\n",
       "      <td>0</td>\n",
       "    </tr>\n",
       "    <tr>\n",
       "      <th>2</th>\n",
       "      <td>with_mask\\10.jpg</td>\n",
       "      <td>0.99785</td>\n",
       "      <td>0</td>\n",
       "      <td>1</td>\n",
       "    </tr>\n",
       "    <tr>\n",
       "      <th>3</th>\n",
       "      <td>with_mask\\100.jpg</td>\n",
       "      <td>0.00148</td>\n",
       "      <td>0</td>\n",
       "      <td>0</td>\n",
       "    </tr>\n",
       "    <tr>\n",
       "      <th>4</th>\n",
       "      <td>with_mask\\101.jpg</td>\n",
       "      <td>0.00025</td>\n",
       "      <td>0</td>\n",
       "      <td>0</td>\n",
       "    </tr>\n",
       "    <tr>\n",
       "      <th>5</th>\n",
       "      <td>with_mask\\102.jpg</td>\n",
       "      <td>0.81920</td>\n",
       "      <td>0</td>\n",
       "      <td>1</td>\n",
       "    </tr>\n",
       "    <tr>\n",
       "      <th>6</th>\n",
       "      <td>with_mask\\103.jpg</td>\n",
       "      <td>0.97266</td>\n",
       "      <td>0</td>\n",
       "      <td>1</td>\n",
       "    </tr>\n",
       "    <tr>\n",
       "      <th>7</th>\n",
       "      <td>with_mask\\104.jpg</td>\n",
       "      <td>0.72226</td>\n",
       "      <td>0</td>\n",
       "      <td>1</td>\n",
       "    </tr>\n",
       "    <tr>\n",
       "      <th>8</th>\n",
       "      <td>with_mask\\105.jpg</td>\n",
       "      <td>0.00102</td>\n",
       "      <td>0</td>\n",
       "      <td>0</td>\n",
       "    </tr>\n",
       "    <tr>\n",
       "      <th>9</th>\n",
       "      <td>with_mask\\106.jpg</td>\n",
       "      <td>0.73551</td>\n",
       "      <td>0</td>\n",
       "      <td>1</td>\n",
       "    </tr>\n",
       "  </tbody>\n",
       "</table>\n",
       "</div>"
      ],
      "text/plain": [
       "            filename  predict  y  y_pred\n",
       "0    with_mask\\0.jpg  0.94180  0       1\n",
       "1    with_mask\\1.jpg  0.14363  0       0\n",
       "2   with_mask\\10.jpg  0.99785  0       1\n",
       "3  with_mask\\100.jpg  0.00148  0       0\n",
       "4  with_mask\\101.jpg  0.00025  0       0\n",
       "5  with_mask\\102.jpg  0.81920  0       1\n",
       "6  with_mask\\103.jpg  0.97266  0       1\n",
       "7  with_mask\\104.jpg  0.72226  0       1\n",
       "8  with_mask\\105.jpg  0.00102  0       0\n",
       "9  with_mask\\106.jpg  0.73551  0       1"
      ]
     },
     "execution_count": 32,
     "metadata": {},
     "output_type": "execute_result"
    }
   ],
   "source": [
    "pd.set_option('display.float_format', lambda x: '%.5f' % x)\n",
    "df['y_pred'] = df['predict']>0.5\n",
    "df.y_pred = df.y_pred.astype(int)\n",
    "df.head(10)"
   ]
  },
  {
   "cell_type": "code",
   "execution_count": 35,
   "id": "c5ae2584",
   "metadata": {},
   "outputs": [
    {
     "name": "stdout",
     "output_type": "stream",
     "text": [
      "Total misclassified image from 1152 Validation images : 740\n"
     ]
    }
   ],
   "source": [
    "misclassified = df[df['y']!=df['y_pred']]\n",
    "print('Total misclassified image from 1152 Validation images : %d'%misclassified['y'].count())"
   ]
  },
  {
   "cell_type": "code",
   "execution_count": 36,
   "id": "d99bf2bd",
   "metadata": {},
   "outputs": [
    {
     "ename": "FileNotFoundError",
     "evalue": "[Errno 2] No such file or directory: 'test/with_mask\\\\0.jpg'",
     "output_type": "error",
     "traceback": [
      "\u001b[1;31m---------------------------------------------------------------------------\u001b[0m",
      "\u001b[1;31mFileNotFoundError\u001b[0m                         Traceback (most recent call last)",
      "Cell \u001b[1;32mIn[36], line 10\u001b[0m\n\u001b[0;32m      7\u001b[0m rows \u001b[38;5;241m=\u001b[39m \u001b[38;5;241m3\u001b[39m\n\u001b[0;32m      8\u001b[0m \u001b[38;5;28;01mfor\u001b[39;00m i \u001b[38;5;129;01min\u001b[39;00m \u001b[38;5;28mrange\u001b[39m(columns\u001b[38;5;241m*\u001b[39mrows):\n\u001b[0;32m      9\u001b[0m     \u001b[38;5;66;03m#img = mpimg.imread()\u001b[39;00m\n\u001b[1;32m---> 10\u001b[0m     img \u001b[38;5;241m=\u001b[39m \u001b[43mimage\u001b[49m\u001b[38;5;241;43m.\u001b[39;49m\u001b[43mload_img\u001b[49m\u001b[43m(\u001b[49m\u001b[38;5;124;43m'\u001b[39;49m\u001b[38;5;124;43mtest/\u001b[39;49m\u001b[38;5;124;43m'\u001b[39;49m\u001b[38;5;241;43m+\u001b[39;49m\u001b[43mmaskWN\u001b[49m\u001b[38;5;241;43m.\u001b[39;49m\u001b[43miloc\u001b[49m\u001b[43m[\u001b[49m\u001b[43mi\u001b[49m\u001b[43m]\u001b[49m\u001b[43m,\u001b[49m\u001b[43m \u001b[49m\u001b[43mtarget_size\u001b[49m\u001b[38;5;241;43m=\u001b[39;49m\u001b[43m(\u001b[49m\u001b[38;5;241;43m64\u001b[39;49m\u001b[43m,\u001b[49m\u001b[43m \u001b[49m\u001b[38;5;241;43m64\u001b[39;49m\u001b[43m)\u001b[49m\u001b[43m)\u001b[49m\n\u001b[0;32m     11\u001b[0m     fig\u001b[38;5;241m.\u001b[39madd_subplot(rows, columns, i\u001b[38;5;241m+\u001b[39m\u001b[38;5;241m1\u001b[39m)\n\u001b[0;32m     12\u001b[0m     plt\u001b[38;5;241m.\u001b[39mimshow(img)\n",
      "File \u001b[1;32m~\\AppData\\Roaming\\Python\\Python310\\site-packages\\keras\\src\\utils\\image_utils.py:422\u001b[0m, in \u001b[0;36mload_img\u001b[1;34m(path, grayscale, color_mode, target_size, interpolation, keep_aspect_ratio)\u001b[0m\n\u001b[0;32m    420\u001b[0m     \u001b[38;5;28;01mif\u001b[39;00m \u001b[38;5;28misinstance\u001b[39m(path, pathlib\u001b[38;5;241m.\u001b[39mPath):\n\u001b[0;32m    421\u001b[0m         path \u001b[38;5;241m=\u001b[39m \u001b[38;5;28mstr\u001b[39m(path\u001b[38;5;241m.\u001b[39mresolve())\n\u001b[1;32m--> 422\u001b[0m     \u001b[38;5;28;01mwith\u001b[39;00m \u001b[38;5;28;43mopen\u001b[39;49m\u001b[43m(\u001b[49m\u001b[43mpath\u001b[49m\u001b[43m,\u001b[49m\u001b[43m \u001b[49m\u001b[38;5;124;43m\"\u001b[39;49m\u001b[38;5;124;43mrb\u001b[39;49m\u001b[38;5;124;43m\"\u001b[39;49m\u001b[43m)\u001b[49m \u001b[38;5;28;01mas\u001b[39;00m f:\n\u001b[0;32m    423\u001b[0m         img \u001b[38;5;241m=\u001b[39m pil_image\u001b[38;5;241m.\u001b[39mopen(io\u001b[38;5;241m.\u001b[39mBytesIO(f\u001b[38;5;241m.\u001b[39mread()))\n\u001b[0;32m    424\u001b[0m \u001b[38;5;28;01melse\u001b[39;00m:\n",
      "\u001b[1;31mFileNotFoundError\u001b[0m: [Errno 2] No such file or directory: 'test/with_mask\\\\0.jpg'"
     ]
    },
    {
     "data": {
      "text/plain": [
       "<Figure size 1500x600 with 0 Axes>"
      ]
     },
     "metadata": {},
     "output_type": "display_data"
    }
   ],
   "source": [
    "#Some of Cat image misclassified as Dog.\n",
    "import matplotlib.image as mpimg\n",
    "\n",
    "maskWN = df['filename'][(df.y==0)&(df.y_pred==1)]\n",
    "fig=plt.figure(figsize=(15, 6))\n",
    "columns = 7\n",
    "rows = 3\n",
    "for i in range(columns*rows):\n",
    "    #img = mpimg.imread()\n",
    "    img = image.load_img('test/'+maskWN.iloc[i], target_size=(64, 64))\n",
    "    fig.add_subplot(rows, columns, i+1)\n",
    "    plt.imshow(img)\n",
    "\n",
    "plt.show()"
   ]
  },
  {
   "cell_type": "code",
   "execution_count": null,
   "id": "3a25762d",
   "metadata": {},
   "outputs": [],
   "source": []
  }
 ],
 "metadata": {
  "kernelspec": {
   "display_name": "Python 3 (ipykernel)",
   "language": "python",
   "name": "python3"
  },
  "language_info": {
   "codemirror_mode": {
    "name": "ipython",
    "version": 3
   },
   "file_extension": ".py",
   "mimetype": "text/x-python",
   "name": "python",
   "nbconvert_exporter": "python",
   "pygments_lexer": "ipython3",
   "version": "3.10.9"
  }
 },
 "nbformat": 4,
 "nbformat_minor": 5
}
