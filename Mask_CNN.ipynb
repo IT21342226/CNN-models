{
  "cells": [
    {
      "cell_type": "code",
      "execution_count": null,
      "metadata": {
        "id": "QqUElHTZS9kZ"
      },
      "outputs": [],
      "source": [
        "import os\n",
        "import random\n",
        "import tensorflow as tf\n",
        "from tensorflow.keras.preprocessing.image import ImageDataGenerator"
      ]
    },
    {
      "cell_type": "code",
      "execution_count": null,
      "metadata": {
        "id": "gUGVrvsl_w9J"
      },
      "outputs": [],
      "source": [
        "dataset_dir = '/content/drive/MyDrive/mask CNN/data'"
      ]
    },
    {
      "cell_type": "code",
      "execution_count": null,
      "metadata": {
        "colab": {
          "base_uri": "https://localhost:8080/"
        },
        "id": "0wB8R6L8AJ18",
        "outputId": "1d1fc332-1d18-4678-f707-c1343498ec48"
      },
      "outputs": [
        {
          "name": "stdout",
          "output_type": "stream",
          "text": [
            "<built-in function dir>\n"
          ]
        }
      ],
      "source": [
        "print(dir)"
      ]
    },
    {
      "cell_type": "code",
      "execution_count": null,
      "metadata": {
        "id": "IRlaY9dSAMpx"
      },
      "outputs": [],
      "source": [
        "# Define the ImageDataGenerator for preprocessing and data augmentation\n",
        "datagen = ImageDataGenerator(rescale=1./255, shear_range=0.2, zoom_range=0.2, horizontal_flip=True, validation_split=0.2)\n"
      ]
    },
    {
      "cell_type": "code",
      "execution_count": null,
      "metadata": {
        "colab": {
          "base_uri": "https://localhost:8080/"
        },
        "id": "x0PBMdD6AZjg",
        "outputId": "4b31bf5e-cfc9-45dd-a661-447430b30edd"
      },
      "outputs": [
        {
          "name": "stdout",
          "output_type": "stream",
          "text": [
            "Found 6043 images belonging to 2 classes.\n"
          ]
        }
      ],
      "source": [
        "# Create a flow from the directory for both training and testing\n",
        "train_generator = datagen.flow_from_directory(\n",
        "    dataset_dir,\n",
        "    target_size=(224, 224),\n",
        "    batch_size=32,\n",
        "    class_mode='binary',  # use 'categorical' for multiple classes\n",
        "    subset='training',\n",
        "    seed=100,\n",
        "    shuffle=True\n",
        ")"
      ]
    },
    {
      "cell_type": "code",
      "execution_count": null,
      "metadata": {
        "colab": {
          "base_uri": "https://localhost:8080/"
        },
        "id": "8e9jAA_kBZnV",
        "outputId": "abef2339-d8fc-42af-ab39-e2128fafb016"
      },
      "outputs": [
        {
          "name": "stdout",
          "output_type": "stream",
          "text": [
            "Found 1510 images belonging to 2 classes.\n"
          ]
        }
      ],
      "source": [
        "test_generator = datagen.flow_from_directory(\n",
        "    dataset_dir,\n",
        "    target_size=(224, 224),\n",
        "    batch_size=32,\n",
        "    class_mode='binary',\n",
        "    subset='validation'\n",
        ")"
      ]
    },
    {
      "cell_type": "code",
      "execution_count": null,
      "metadata": {
        "id": "3_uUEDgPBl37"
      },
      "outputs": [],
      "source": [
        "import tensorflow\n",
        "from tensorflow.keras.models import Sequential\n",
        "from tensorflow.keras.layers import Flatten\n",
        "from tensorflow.keras.layers import Dense\n",
        "from tensorflow.keras.layers import Conv2D\n",
        "from tensorflow.keras.layers import MaxPooling2D\n",
        "from tensorflow.keras.callbacks import TensorBoard"
      ]
    },
    {
      "cell_type": "code",
      "execution_count": null,
      "metadata": {
        "id": "taxG42WaB0cp"
      },
      "outputs": [],
      "source": [
        "\n",
        "model = tensorflow.keras.Sequential([\n",
        "    tensorflow.keras.layers.Conv2D(filters = 16, kernel_size = (3,3), activation='relu',\n",
        "                                  input_shape=(224, 224, 3)),\n",
        "    tensorflow.keras.layers.MaxPool2D(pool_size=(2,2), strides=2),\n",
        "    tensorflow.keras.layers.Conv2D(filters = 16, kernel_size = (3,3), activation='relu'),\n",
        "    tensorflow.keras.layers.MaxPool2D(pool_size=(2,2), strides=2),\n",
        "\n",
        "    tensorflow.keras.layers.Conv2D(filters = 32, kernel_size = (3,3), activation='relu'),\n",
        "    tensorflow.keras.layers.MaxPool2D(pool_size=(2,2), strides=2),\n",
        "\n",
        "    tensorflow.keras.layers.Flatten(),\n",
        "    tensorflow.keras.layers.Dense(64, activation='relu'),\n",
        "    tensorflow.keras.layers.Dense(1, activation='sigmoid')\n",
        "\n",
        "])\n",
        "\n",
        "model.compile(\n",
        "\n",
        "    optimizer=tensorflow.keras.optimizers.Adam(learning_rate=0.001),\n",
        "\n",
        "    loss=tensorflow.keras.losses.BinaryCrossentropy(),\n",
        "\n",
        "    metrics=['accuracy']\n",
        "\n",
        ")"
      ]
    },
    {
      "cell_type": "code",
      "execution_count": null,
      "metadata": {
        "colab": {
          "base_uri": "https://localhost:8080/"
        },
        "id": "F-c-2cvKCBCW",
        "outputId": "6b0986ac-b1f3-41a8-ea31-08e3e0c7984b"
      },
      "outputs": [
        {
          "metadata": {
            "tags": null
          },
          "name": "stdout",
          "output_type": "stream",
          "text": [
            "Epoch 1/7\n",
            " 57/189 [========>.....................] - ETA: 15:01 - loss: 0.5023 - accuracy: 0.7466"
          ]
        },
        {
          "metadata": {
            "tags": null
          },
          "name": "stderr",
          "output_type": "stream",
          "text": [
            "/usr/local/lib/python3.10/dist-packages/PIL/Image.py:996: UserWarning: Palette images with Transparency expressed in bytes should be converted to RGBA images\n",
            "  warnings.warn(\n"
          ]
        },
        {
          "output_type": "stream",
          "name": "stdout",
          "text": [
            "189/189 [==============================] - 1544s 8s/step - loss: 0.3638 - accuracy: 0.8388 - val_loss: 0.2320 - val_accuracy: 0.9146\n",
            "Epoch 2/7\n",
            "189/189 [==============================] - 323s 2s/step - loss: 0.2519 - accuracy: 0.8996 - val_loss: 0.2185 - val_accuracy: 0.9152\n",
            "Epoch 3/7\n",
            "189/189 [==============================] - 325s 2s/step - loss: 0.2202 - accuracy: 0.9125 - val_loss: 0.2212 - val_accuracy: 0.9179\n",
            "Epoch 4/7\n",
            "189/189 [==============================] - 325s 2s/step - loss: 0.1971 - accuracy: 0.9214 - val_loss: 0.1632 - val_accuracy: 0.9417\n",
            "Epoch 5/7\n",
            "120/189 [==================>...........] - ETA: 1:43 - loss: 0.1792 - accuracy: 0.9284"
          ]
        }
      ],
      "source": [
        "# Fit the model using the data generator\n",
        "history = model.fit(\n",
        "    train_generator,\n",
        "    epochs=10,\n",
        "    validation_data=test_generator\n",
        ")"
      ]
    },
    {
      "cell_type": "code",
      "execution_count": 1,
      "metadata": {
        "id": "DCKgwsYTCFgr",
        "colab": {
          "base_uri": "https://localhost:8080/",
          "height": 175
        },
        "outputId": "ada4202b-f524-4daf-c99c-68d80d497497"
      },
      "outputs": [
        {
          "output_type": "error",
          "ename": "NameError",
          "evalue": "ignored",
          "traceback": [
            "\u001b[0;31m---------------------------------------------------------------------------\u001b[0m",
            "\u001b[0;31mNameError\u001b[0m                                 Traceback (most recent call last)",
            "\u001b[0;32m<ipython-input-1-52f55913fcee>\u001b[0m in \u001b[0;36m<cell line: 1>\u001b[0;34m()\u001b[0m\n\u001b[0;32m----> 1\u001b[0;31m \u001b[0mmodel\u001b[0m\u001b[0;34m.\u001b[0m\u001b[0mevaluate\u001b[0m\u001b[0;34m(\u001b[0m\u001b[0mtest_generator\u001b[0m\u001b[0;34m)\u001b[0m\u001b[0;34m\u001b[0m\u001b[0;34m\u001b[0m\u001b[0m\n\u001b[0m",
            "\u001b[0;31mNameError\u001b[0m: name 'model' is not defined"
          ]
        }
      ],
      "source": [
        "model.evaluate(test_generator)"
      ]
    }
  ],
  "metadata": {
    "colab": {
      "provenance": []
    },
    "kernelspec": {
      "display_name": "Python 3",
      "name": "python3"
    },
    "language_info": {
      "name": "python"
    }
  },
  "nbformat": 4,
  "nbformat_minor": 0
}